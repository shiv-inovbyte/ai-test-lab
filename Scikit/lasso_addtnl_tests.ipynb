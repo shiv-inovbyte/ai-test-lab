{
 "cells": [
  {
   "cell_type": "markdown",
   "id": "04e703de",
   "metadata": {},
   "source": [
    "Testing selection criteria for Lass\n",
    "AIC - Akaike Information Criterion\n",
    "BIC - Baynesian Information Criterion"
   ]
  },
  {
   "cell_type": "code",
   "execution_count": 1,
   "id": "d97891db",
   "metadata": {},
   "outputs": [
    {
     "data": {
      "text/html": [
       "<div>\n",
       "<style scoped>\n",
       "    .dataframe tbody tr th:only-of-type {\n",
       "        vertical-align: middle;\n",
       "    }\n",
       "\n",
       "    .dataframe tbody tr th {\n",
       "        vertical-align: top;\n",
       "    }\n",
       "\n",
       "    .dataframe thead th {\n",
       "        text-align: right;\n",
       "    }\n",
       "</style>\n",
       "<table border=\"1\" class=\"dataframe\">\n",
       "  <thead>\n",
       "    <tr style=\"text-align: right;\">\n",
       "      <th></th>\n",
       "      <th>age</th>\n",
       "      <th>sex</th>\n",
       "      <th>bmi</th>\n",
       "      <th>bp</th>\n",
       "      <th>s1</th>\n",
       "      <th>s2</th>\n",
       "      <th>s3</th>\n",
       "      <th>s4</th>\n",
       "      <th>s5</th>\n",
       "      <th>s6</th>\n",
       "    </tr>\n",
       "  </thead>\n",
       "  <tbody>\n",
       "    <tr>\n",
       "      <th>0</th>\n",
       "      <td>0.038076</td>\n",
       "      <td>0.050680</td>\n",
       "      <td>0.061696</td>\n",
       "      <td>0.021872</td>\n",
       "      <td>-0.044223</td>\n",
       "      <td>-0.034821</td>\n",
       "      <td>-0.043401</td>\n",
       "      <td>-0.002592</td>\n",
       "      <td>0.019907</td>\n",
       "      <td>-0.017646</td>\n",
       "    </tr>\n",
       "    <tr>\n",
       "      <th>1</th>\n",
       "      <td>-0.001882</td>\n",
       "      <td>-0.044642</td>\n",
       "      <td>-0.051474</td>\n",
       "      <td>-0.026328</td>\n",
       "      <td>-0.008449</td>\n",
       "      <td>-0.019163</td>\n",
       "      <td>0.074412</td>\n",
       "      <td>-0.039493</td>\n",
       "      <td>-0.068332</td>\n",
       "      <td>-0.092204</td>\n",
       "    </tr>\n",
       "    <tr>\n",
       "      <th>2</th>\n",
       "      <td>0.085299</td>\n",
       "      <td>0.050680</td>\n",
       "      <td>0.044451</td>\n",
       "      <td>-0.005670</td>\n",
       "      <td>-0.045599</td>\n",
       "      <td>-0.034194</td>\n",
       "      <td>-0.032356</td>\n",
       "      <td>-0.002592</td>\n",
       "      <td>0.002861</td>\n",
       "      <td>-0.025930</td>\n",
       "    </tr>\n",
       "    <tr>\n",
       "      <th>3</th>\n",
       "      <td>-0.089063</td>\n",
       "      <td>-0.044642</td>\n",
       "      <td>-0.011595</td>\n",
       "      <td>-0.036656</td>\n",
       "      <td>0.012191</td>\n",
       "      <td>0.024991</td>\n",
       "      <td>-0.036038</td>\n",
       "      <td>0.034309</td>\n",
       "      <td>0.022688</td>\n",
       "      <td>-0.009362</td>\n",
       "    </tr>\n",
       "    <tr>\n",
       "      <th>4</th>\n",
       "      <td>0.005383</td>\n",
       "      <td>-0.044642</td>\n",
       "      <td>-0.036385</td>\n",
       "      <td>0.021872</td>\n",
       "      <td>0.003935</td>\n",
       "      <td>0.015596</td>\n",
       "      <td>0.008142</td>\n",
       "      <td>-0.002592</td>\n",
       "      <td>-0.031988</td>\n",
       "      <td>-0.046641</td>\n",
       "    </tr>\n",
       "  </tbody>\n",
       "</table>\n",
       "</div>"
      ],
      "text/plain": [
       "        age       sex       bmi        bp        s1        s2        s3  \\\n",
       "0  0.038076  0.050680  0.061696  0.021872 -0.044223 -0.034821 -0.043401   \n",
       "1 -0.001882 -0.044642 -0.051474 -0.026328 -0.008449 -0.019163  0.074412   \n",
       "2  0.085299  0.050680  0.044451 -0.005670 -0.045599 -0.034194 -0.032356   \n",
       "3 -0.089063 -0.044642 -0.011595 -0.036656  0.012191  0.024991 -0.036038   \n",
       "4  0.005383 -0.044642 -0.036385  0.021872  0.003935  0.015596  0.008142   \n",
       "\n",
       "         s4        s5        s6  \n",
       "0 -0.002592  0.019907 -0.017646  \n",
       "1 -0.039493 -0.068332 -0.092204  \n",
       "2 -0.002592  0.002861 -0.025930  \n",
       "3  0.034309  0.022688 -0.009362  \n",
       "4 -0.002592 -0.031988 -0.046641  "
      ]
     },
     "execution_count": 1,
     "metadata": {},
     "output_type": "execute_result"
    }
   ],
   "source": [
    "from sklearn.datasets import load_diabetes\n",
    "\n",
    "X, y = load_diabetes(return_X_y=True, as_frame=True)\n",
    "n_samples = X.shape[0] # 442 samples\n",
    "X.head()"
   ]
  },
  {
   "cell_type": "markdown",
   "id": "7dd6c512",
   "metadata": {},
   "source": [
    "Scikit-learn provides an estimator called LassoLarsIC that uses either AIC or BIC"
   ]
  },
  {
   "cell_type": "code",
   "execution_count": 2,
   "id": "b763456c",
   "metadata": {},
   "outputs": [],
   "source": [
    "from sklearn.linear_model import LassoLarsIC\n",
    "from sklearn.pipeline import make_pipeline\n",
    "from sklearn.preprocessing import StandardScaler\n",
    "\n",
    "lasso_lars_ic = make_pipeline(StandardScaler(), LassoLarsIC(criterion=\"aic\")).fit(X, y)"
   ]
  },
  {
   "cell_type": "code",
   "execution_count": 3,
   "id": "e81a4379",
   "metadata": {},
   "outputs": [],
   "source": [
    "import numpy as np\n",
    "\n",
    "def zou_et_al_criterion_rescaling(criterion, n_samples, noise_variance):\n",
    "    \"\"\"Rescale the information criterion to follow the definition of Zou et al.\"\"\"\n",
    "    return criterion - n_samples * np.log(2 * np.pi * noise_variance) - n_samples\n",
    "\n",
    "aic_criterion = zou_et_al_criterion_rescaling(\n",
    "    lasso_lars_ic[-1].criterion_,\n",
    "    n_samples,\n",
    "    lasso_lars_ic[-1].noise_variance_,\n",
    ")\n",
    "\n",
    "index_alpha_path_aic = np.flatnonzero(\n",
    "    lasso_lars_ic[-1].alphas_ == lasso_lars_ic[-1].alpha_\n",
    ")[0]\n"
   ]
  },
  {
   "cell_type": "code",
   "execution_count": 5,
   "id": "aa7fab8d",
   "metadata": {},
   "outputs": [
    {
     "name": "stdout",
     "output_type": "stream",
     "text": [
      "True\n"
     ]
    }
   ],
   "source": [
    "lasso_lars_ic.set_params(lassolarsic__criterion=\"bic\").fit(X, y)\n",
    "\n",
    "bic_criterion = zou_et_al_criterion_rescaling(\n",
    "    lasso_lars_ic[-1].criterion_,\n",
    "    n_samples,\n",
    "    lasso_lars_ic[-1].noise_variance_,\n",
    ")\n",
    "\n",
    "index_alpha_path_bic = np.flatnonzero(\n",
    "    lasso_lars_ic[-1].alphas_ == lasso_lars_ic[-1].alpha_\n",
    ")[0]\n",
    "print(index_alpha_path_aic == index_alpha_path_bic)"
   ]
  },
  {
   "cell_type": "markdown",
   "id": "e8ee5846",
   "metadata": {},
   "source": [
    "Plotting the AIC and BIC criterion"
   ]
  },
  {
   "cell_type": "code",
   "execution_count": 6,
   "id": "e2f3238b",
   "metadata": {},
   "outputs": [
    {
     "data": {
      "image/png": "[encoded data removed]",
      "text/plain": [
       "<Figure size 640x480 with 1 Axes>"
      ]
     },
     "metadata": {},
     "output_type": "display_data"
    }
   ],
   "source": [
    "import matplotlib.pyplot as plt\n",
    "\n",
    "plt.plot(aic_criterion, color=\"tab:blue\", marker=\"o\", label=\"AIC criterion\")\n",
    "plt.plot(bic_criterion, color=\"tab:orange\", marker=\"o\", label=\"BIC criterion\")\n",
    "plt.vlines(\n",
    "    index_alpha_path_bic,\n",
    "    aic_criterion.min(),\n",
    "    aic_criterion.max(),\n",
    "    color=\"black\",\n",
    "    linestyle=\"--\",\n",
    "    label=\"Selected alpha\",\n",
    ")\n",
    "plt.legend()\n",
    "plt.ylabel(\"Information criterion\")\n",
    "plt.xlabel(\"Lasso model sequence\")\n",
    "_ = plt.title(\"Lasso model selection via AIC and BIC\")"
   ]
  }
 ],
 "metadata": {
  "kernelspec": {
   "display_name": "Python 3",
   "language": "python",
   "name": "python3"
  },
  "language_info": {
   "codemirror_mode": {
    "name": "ipython",
    "version": 3
   },
   "file_extension": ".py",
   "mimetype": "text/x-python",
   "name": "python",
   "nbconvert_exporter": "python",
   "pygments_lexer": "ipython3",
   "version": "3.11.8"
  }
 },
 "nbformat": 4,
 "nbformat_minor": 5
}
