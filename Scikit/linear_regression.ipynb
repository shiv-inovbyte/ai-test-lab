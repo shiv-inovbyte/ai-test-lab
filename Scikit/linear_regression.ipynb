{
 "cells": [
  {
   "cell_type": "markdown",
   "id": "01ffd032",
   "metadata": {},
   "source": [
    "Testing code for linear regressions"
   ]
  },
  {
   "cell_type": "code",
   "execution_count": 3,
   "id": "43bc9e3c",
   "metadata": {},
   "outputs": [
    {
     "name": "stdout",
     "output_type": "stream",
     "text": [
      "[0.5 0.5]\n",
      "1.1102230246251565e-16\n"
     ]
    }
   ],
   "source": [
    "from sklearn import linear_model\n",
    "reg = linear_model.LinearRegression()\n",
    "reg.fit([[0, 0], [1, 1], [2, 2]], [0, 1, 2])\n",
    "print(reg.coef_)\n",
    "print(reg.intercept_)\n",
    "#print(reg.predict([[3, 3]]))"
   ]
  },
  {
   "cell_type": "markdown",
   "id": "08aa60fa",
   "metadata": {},
   "source": [
    "Non Negetive least squares \n",
    "Generating some random data"
   ]
  },
  {
   "cell_type": "code",
   "execution_count": null,
   "id": "92636e63",
   "metadata": {},
   "outputs": [],
   "source": [
    "import matplotlib.pyplot as plt\n",
    "import numpy as np\n",
    "\n",
    "from sklearn.metrics import mean_squared_error, r2_score\n",
    "np.random.seed(42) # For reproducibility\n",
    "n_samples, n_features = 200, 50 #\n",
    "x=np.random.randn(n_samples, n_features)\n",
    "true_coef = 3 * np.random.randn(n_features)\n",
    "true_coef[true_coef < 0] = 0  # enforce non-negativity\n",
    "y=np.dot(x, true_coef)\n",
    "\n",
    "y+=5 * np.random.normal(size=n_samples)\n",
    "print(\"Number of non-zero coefficients in the ground truth:\", np.sum(true_coef != 0))\n",
    "print(\"Ground truth coefficients:\", true_coef)\n",
    "#print(\"Input data (first 5 samples):\\n\", x[:5])\n",
    "#print(\"Target values (first 5 samples):\\n\", y[:5])   \n",
    "\n"
   ]
  },
  {
   "cell_type": "markdown",
   "id": "4ca945f2",
   "metadata": {},
   "source": [
    "Splitting the data in train set and test set"
   ]
  },
  {
   "cell_type": "code",
   "execution_count": 13,
   "id": "55b1a464",
   "metadata": {},
   "outputs": [],
   "source": [
    "from sklearn.model_selection import train_test_split\n",
    "X_train, X_test, y_train, y_test = train_test_split(x, y, test_size=0.5, random_state=42) # Splitting the data in train set and test set"
   ]
  },
  {
   "cell_type": "markdown",
   "id": "46149131",
   "metadata": {},
   "source": [
    "For non negative least squares (NNLS)"
   ]
  },
  {
   "cell_type": "code",
   "execution_count": null,
   "id": "abe55beb",
   "metadata": {},
   "outputs": [
    {
     "name": "stdout",
     "output_type": "stream",
     "text": [
      "NNLS R^2: 0.7921902769304822\n",
      "[1.66928462 0.         0.         1.12496012 4.62426923 0.14848267\n",
      " 2.21059938 0.96708311 0.44245293 1.65997245 2.16226678 2.34206619\n",
      " 0.         0.51338009 2.12737396 0.99157358 0.51885898 0.11194361\n",
      " 0.         4.89240885 5.54756715 2.17617625 3.28357297 1.27147054\n",
      " 2.32145624 4.36056651 1.209559   0.4642923  0.08509133 0.3312238\n",
      " 2.92165159 2.91543632 2.03299413 0.         0.05811007 1.29713962\n",
      " 0.8050887  0.27065961 1.18694689 6.80621679 0.33616193 0.06042175\n",
      " 0.14385769 0.01966391 0.48074168 0.66974469 1.36614807 1.00224137\n",
      " 1.44588106 1.59432624]\n"
     ]
    }
   ],
   "source": [
    "from sklearn.linear_model import LinearRegression\n",
    "reg_nnls = LinearRegression(positive=True)\n",
    "y_pred_nnls = reg_nnls.fit(X_train, y_train).predict(X_test) # Fitting the model and predicting the values\n",
    "r2_score_nnls = r2_score(y_test, y_pred_nnls) #\n",
    "print(\"NNLS R^2:\", r2_score_nnls)"
   ]
  },
  {
   "cell_type": "markdown",
   "id": "bf377872",
   "metadata": {},
   "source": [
    "Fit an OLS Ordinary Least Squares"
   ]
  },
  {
   "cell_type": "markdown",
   "id": "20116a60",
   "metadata": {},
   "source": []
  },
  {
   "cell_type": "code",
   "execution_count": 16,
   "id": "29ba9744",
   "metadata": {},
   "outputs": [
    {
     "name": "stdout",
     "output_type": "stream",
     "text": [
      "OLS R^2: 0.7604320840233199\n"
     ]
    }
   ],
   "source": [
    "reg_ols = LinearRegression() # Ordinary Least Squares\n",
    "y_pred_ols = reg_ols.fit(X_train, y_train).predict(X_test)\n",
    "r2_score_ols = r2_score(y_test, y_pred_ols)\n",
    "print(\"OLS R^2:\", r2_score_ols)"
   ]
  },
  {
   "cell_type": "markdown",
   "id": "89697160",
   "metadata": {},
   "source": [
    "OLS and NNLS are same in above case but NNLS constraints shrink some data points to 0\n",
    "NNLS yields sparse results"
   ]
  },
  {
   "cell_type": "code",
   "execution_count": 23,
   "id": "db353861",
   "metadata": {},
   "outputs": [
    {
     "ename": "TypeError",
     "evalue": "Got both 'color' and 'c', which are aliases of one another",
     "output_type": "error",
     "traceback": [
      "\u001b[31m---------------------------------------------------------------------------\u001b[39m",
      "\u001b[31mTypeError\u001b[39m                                 Traceback (most recent call last)",
      "\u001b[36mCell\u001b[39m\u001b[36m \u001b[39m\u001b[32mIn[23]\u001b[39m\u001b[32m, line 8\u001b[39m\n\u001b[32m      6\u001b[39m low = \u001b[38;5;28mmin\u001b[39m(low_x, low_y) \u001b[38;5;66;03m# get the lowest of the two\u001b[39;00m\n\u001b[32m      7\u001b[39m high = \u001b[38;5;28mmax\u001b[39m(high_x, high_y) \u001b[38;5;66;03m# get the highest of the two\u001b[39;00m\n\u001b[32m----> \u001b[39m\u001b[32m8\u001b[39m \u001b[43max\u001b[49m\u001b[43m.\u001b[49m\u001b[43mplot\u001b[49m\u001b[43m(\u001b[49m\u001b[43m[\u001b[49m\u001b[43mlow\u001b[49m\u001b[43m,\u001b[49m\u001b[43m \u001b[49m\u001b[43mhigh\u001b[49m\u001b[43m]\u001b[49m\u001b[43m,\u001b[49m\u001b[43m \u001b[49m\u001b[43m[\u001b[49m\u001b[43mlow\u001b[49m\u001b[43m,\u001b[49m\u001b[43m \u001b[49m\u001b[43mhigh\u001b[49m\u001b[43m]\u001b[49m\u001b[43m,\u001b[49m\u001b[43m \u001b[49m\u001b[43mcolor\u001b[49m\u001b[43m=\u001b[49m\u001b[33;43m'\u001b[39;49m\u001b[33;43mr\u001b[39;49m\u001b[33;43m'\u001b[39;49m\u001b[43m,\u001b[49m\u001b[43m \u001b[49m\u001b[43mls\u001b[49m\u001b[43m=\u001b[49m\u001b[33;43m'\u001b[39;49m\u001b[33;43m--\u001b[39;49m\u001b[33;43m'\u001b[39;49m\u001b[43m,\u001b[49m\u001b[43m \u001b[49m\u001b[43mc\u001b[49m\u001b[43m=\u001b[49m\u001b[33;43m\"\u001b[39;49m\u001b[33;43m0.3\u001b[39;49m\u001b[33;43m\"\u001b[39;49m\u001b[43m,\u001b[49m\u001b[43m \u001b[49m\u001b[43malpaha\u001b[49m\u001b[43m=\u001b[49m\u001b[32;43m0.5\u001b[39;49m\u001b[43m)\u001b[49m \u001b[38;5;66;03m# plot a diagonal line\u001b[39;00m\n\u001b[32m      9\u001b[39m ax.set_xlabel(\u001b[33m\"\u001b[39m\u001b[33mOLS regression Coefficients\u001b[39m\u001b[33m\"\u001b[39m, frontweight=\u001b[33m'\u001b[39m\u001b[33mbold\u001b[39m\u001b[33m'\u001b[39m)\n\u001b[32m     10\u001b[39m ax.set_ylabel(\u001b[33m\"\u001b[39m\u001b[33mNNLS regression Coefficients\u001b[39m\u001b[33m\"\u001b[39m, frontweight=\u001b[33m'\u001b[39m\u001b[33mbold\u001b[39m\u001b[33m'\u001b[39m) \n",
      "\u001b[36mFile \u001b[39m\u001b[32m/Library/Frameworks/Python.framework/Versions/3.11/lib/python3.11/site-packages/matplotlib/axes/_axes.py:1776\u001b[39m, in \u001b[36mAxes.plot\u001b[39m\u001b[34m(self, scalex, scaley, data, *args, **kwargs)\u001b[39m\n\u001b[32m   1532\u001b[39m \u001b[38;5;129m@_docstring\u001b[39m.interpd\n\u001b[32m   1533\u001b[39m \u001b[38;5;28;01mdef\u001b[39;00m\u001b[38;5;250m \u001b[39m\u001b[34mplot\u001b[39m(\u001b[38;5;28mself\u001b[39m, *args, scalex=\u001b[38;5;28;01mTrue\u001b[39;00m, scaley=\u001b[38;5;28;01mTrue\u001b[39;00m, data=\u001b[38;5;28;01mNone\u001b[39;00m, **kwargs):\n\u001b[32m   1534\u001b[39m \u001b[38;5;250m    \u001b[39m\u001b[33;03m\"\"\"\u001b[39;00m\n\u001b[32m   1535\u001b[39m \u001b[33;03m    Plot y versus x as lines and/or markers.\u001b[39;00m\n\u001b[32m   1536\u001b[39m \n\u001b[32m   (...)\u001b[39m\u001b[32m   1774\u001b[39m \u001b[33;03m    (``'green'``) or hex strings (``'#008000'``).\u001b[39;00m\n\u001b[32m   1775\u001b[39m \u001b[33;03m    \"\"\"\u001b[39;00m\n\u001b[32m-> \u001b[39m\u001b[32m1776\u001b[39m     kwargs = \u001b[43mcbook\u001b[49m\u001b[43m.\u001b[49m\u001b[43mnormalize_kwargs\u001b[49m\u001b[43m(\u001b[49m\u001b[43mkwargs\u001b[49m\u001b[43m,\u001b[49m\u001b[43m \u001b[49m\u001b[43mmlines\u001b[49m\u001b[43m.\u001b[49m\u001b[43mLine2D\u001b[49m\u001b[43m)\u001b[49m\n\u001b[32m   1777\u001b[39m     lines = [*\u001b[38;5;28mself\u001b[39m._get_lines(\u001b[38;5;28mself\u001b[39m, *args, data=data, **kwargs)]\n\u001b[32m   1778\u001b[39m     \u001b[38;5;28;01mfor\u001b[39;00m line \u001b[38;5;129;01min\u001b[39;00m lines:\n",
      "\u001b[36mFile \u001b[39m\u001b[32m/Library/Frameworks/Python.framework/Versions/3.11/lib/python3.11/site-packages/matplotlib/cbook.py:1800\u001b[39m, in \u001b[36mnormalize_kwargs\u001b[39m\u001b[34m(kw, alias_mapping)\u001b[39m\n\u001b[32m   1798\u001b[39m canonical = to_canonical.get(k, k)\n\u001b[32m   1799\u001b[39m \u001b[38;5;28;01mif\u001b[39;00m canonical \u001b[38;5;129;01min\u001b[39;00m canonical_to_seen:\n\u001b[32m-> \u001b[39m\u001b[32m1800\u001b[39m     \u001b[38;5;28;01mraise\u001b[39;00m \u001b[38;5;167;01mTypeError\u001b[39;00m(\u001b[33mf\u001b[39m\u001b[33m\"\u001b[39m\u001b[33mGot both \u001b[39m\u001b[38;5;132;01m{\u001b[39;00mcanonical_to_seen[canonical]\u001b[38;5;132;01m!r}\u001b[39;00m\u001b[33m and \u001b[39m\u001b[33m\"\u001b[39m\n\u001b[32m   1801\u001b[39m                     \u001b[33mf\u001b[39m\u001b[33m\"\u001b[39m\u001b[38;5;132;01m{\u001b[39;00mk\u001b[38;5;132;01m!r}\u001b[39;00m\u001b[33m, which are aliases of one another\u001b[39m\u001b[33m\"\u001b[39m)\n\u001b[32m   1802\u001b[39m canonical_to_seen[canonical] = k\n\u001b[32m   1803\u001b[39m ret[canonical] = v\n",
      "\u001b[31mTypeError\u001b[39m: Got both 'color' and 'c', which are aliases of one another"
     ]
    },
    {
     "data": {
      "image/png": "[encoded data removed]",
      "text/plain": [
       "<Figure size 640x480 with 1 Axes>"
      ]
     },
     "metadata": {},
     "output_type": "display_data"
    }
   ],
   "source": [
    "fig, ax = plt.subplots()\n",
    "ax.plot(reg_ols.coef_, reg_nnls.coef_, linewidth=0, marker = \".\", color='k')\n",
    "\n",
    "low_x, high_x = ax.get_xlim() # get the x-axis limits\n",
    "low_y, high_y = ax.get_ylim() # get the y-axis limits\n",
    "low = min(low_x, low_y) # get the lowest of the two\n",
    "high = max(high_x, high_y) # get the highest of the two\n",
    "ax.plot([low, high], [low, high], color='r', ls='--', c=\"0.3\", alpaha=0.5) # plot a diagonal line\n",
    "ax.set_xlabel(\"OLS regression Coefficients\", frontweight='bold')\n",
    "ax.set_ylabel(\"NNLS regression Coefficients\", frontweight='bold') "
   ]
  }
 ],
 "metadata": {
  "kernelspec": {
   "display_name": "Python 3",
   "language": "python",
   "name": "python3"
  },
  "language_info": {
   "codemirror_mode": {
    "name": "ipython",
    "version": 3
   },
   "file_extension": ".py",
   "mimetype": "text/x-python",
   "name": "python",
   "nbconvert_exporter": "python",
   "pygments_lexer": "ipython3",
   "version": "3.11.8"
  }
 },
 "nbformat": 4,
 "nbformat_minor": 5
}
