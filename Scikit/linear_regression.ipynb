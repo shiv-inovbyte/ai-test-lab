{
 "cells": [
  {
   "cell_type": "markdown",
   "id": "01ffd032",
   "metadata": {},
   "source": [
    "Testing code for linear regressions"
   ]
  },
  {
   "cell_type": "code",
   "execution_count": 4,
   "id": "43bc9e3c",
   "metadata": {},
   "outputs": [
    {
     "name": "stdout",
     "output_type": "stream",
     "text": [
      "[0.5 0.5]\n",
      "1.1102230246251565e-16\n"
     ]
    }
   ],
   "source": [
    "from sklearn import linear_model\n",
    "reg = linear_model.LinearRegression()\n",
    "reg.fit([[0, 0], [1, 1], [2, 2]], [0, 1, 2])\n",
    "print(reg.coef_)\n",
    "print(reg.intercept_)\n",
    "#print(reg.predict([[3, 3]]))"
   ]
  },
  {
   "cell_type": "markdown",
   "id": "08aa60fa",
   "metadata": {},
   "source": [
    "Non Negetive least squares \n",
    "Generating some random data"
   ]
  },
  {
   "cell_type": "code",
   "execution_count": 5,
   "id": "92636e63",
   "metadata": {},
   "outputs": [
    {
     "name": "stdout",
     "output_type": "stream",
     "text": [
      "Number of non-zero coefficients in the ground truth: 29\n",
      "Ground truth coefficients: [0.         0.         0.         0.33125414 3.59153559 0.\n",
      " 3.00246149 0.         0.         2.45578386 2.76580913 2.55422981\n",
      " 0.         0.         2.46896578 0.12462552 0.         1.37495382\n",
      " 0.         5.38357455 4.63452439 1.81229228 4.08302011 0.19437405\n",
      " 2.29631248 4.43316089 0.73649605 0.         0.         0.\n",
      " 2.47026955 2.83690028 1.5130952  0.         0.         0.\n",
      " 0.         0.         1.85566907 5.95702923 0.37058761 0.\n",
      " 0.         0.3731543  0.         0.36059568 1.35243701 0.62905819\n",
      " 1.3726258  1.30124283]\n"
     ]
    }
   ],
   "source": [
    "import matplotlib.pyplot as plt\n",
    "import numpy as np\n",
    "\n",
    "from sklearn.metrics import mean_squared_error, r2_score\n",
    "np.random.seed(42) # For reproducibility\n",
    "n_samples, n_features = 200, 50 #\n",
    "x=np.random.randn(n_samples, n_features)\n",
    "true_coef = 3 * np.random.randn(n_features)\n",
    "true_coef[true_coef < 0] = 0  # enforce non-negativity\n",
    "y=np.dot(x, true_coef)\n",
    "\n",
    "y+=5 * np.random.normal(size=n_samples) # add noise\n",
    "print(\"Number of non-zero coefficients in the ground truth:\", np.sum(true_coef != 0))\n",
    "print(\"Ground truth coefficients:\", true_coef)\n",
    "#print(\"Input data (first 5 samples):\\n\", x[:5])\n",
    "#print(\"Target values (first 5 samples):\\n\", y[:5])   \n",
    "\n"
   ]
  },
  {
   "cell_type": "markdown",
   "id": "4ca945f2",
   "metadata": {},
   "source": [
    "Splitting the data in train set and test set"
   ]
  },
  {
   "cell_type": "code",
   "execution_count": 6,
   "id": "55b1a464",
   "metadata": {},
   "outputs": [],
   "source": [
    "from sklearn.model_selection import train_test_split\n",
    "X_train, X_test, y_train, y_test = train_test_split(x, y, test_size=0.5, random_state=42) # Splitting the data in train set and test set"
   ]
  },
  {
   "cell_type": "markdown",
   "id": "46149131",
   "metadata": {},
   "source": [
    "For non negative least squares (NNLS)"
   ]
  },
  {
   "cell_type": "code",
   "execution_count": 7,
   "id": "abe55beb",
   "metadata": {},
   "outputs": [
    {
     "name": "stdout",
     "output_type": "stream",
     "text": [
      "NNLS R^2: 0.7921902769304822\n"
     ]
    }
   ],
   "source": [
    "from sklearn.linear_model import LinearRegression\n",
    "reg_nnls = LinearRegression(positive=True)\n",
    "y_pred_nnls = reg_nnls.fit(X_train, y_train).predict(X_test) # Fitting the model and predicting the values\n",
    "r2_score_nnls = r2_score(y_test, y_pred_nnls) #\n",
    "print(\"NNLS R^2:\", r2_score_nnls)"
   ]
  },
  {
   "cell_type": "markdown",
   "id": "bf377872",
   "metadata": {},
   "source": [
    "Fit an OLS Ordinary Least Squares"
   ]
  },
  {
   "cell_type": "markdown",
   "id": "20116a60",
   "metadata": {},
   "source": []
  },
  {
   "cell_type": "code",
   "execution_count": 8,
   "id": "29ba9744",
   "metadata": {},
   "outputs": [
    {
     "name": "stdout",
     "output_type": "stream",
     "text": [
      "OLS R^2: 0.7604320840233199\n"
     ]
    }
   ],
   "source": [
    "reg_ols = LinearRegression() # Ordinary Least Squares\n",
    "y_pred_ols = reg_ols.fit(X_train, y_train).predict(X_test)\n",
    "r2_score_ols = r2_score(y_test, y_pred_ols)\n",
    "print(\"OLS R^2:\", r2_score_ols)"
   ]
  },
  {
   "cell_type": "markdown",
   "id": "89697160",
   "metadata": {},
   "source": [
    "OLS and NNLS are same in above case but NNLS constraints shrink some data points to 0\n",
    "NNLS yields sparse results"
   ]
  },
  {
   "cell_type": "code",
   "execution_count": null,
   "id": "db353861",
   "metadata": {},
   "outputs": [
    {
     "data": {
      "text/plain": [
       "Text(0, 0.5, 'NNLS regression Coefficients')"
      ]
     },
     "execution_count": 11,
     "metadata": {},
     "output_type": "execute_result"
    },
    {
     "data": {
      "image/png": "[encoded data removed]",
      "text/plain": [
       "<Figure size 640x480 with 1 Axes>"
      ]
     },
     "metadata": {},
     "output_type": "display_data"
    }
   ],
   "source": [
    "\n",
    "fig, ax = plt.subplots()\n",
    "ax.plot(reg_ols.coef_, reg_nnls.coef_, linewidth=0, marker = \".\", color='k')\n",
    "\n",
    "low_x, high_x = ax.get_xlim() # get the x-axis limits\n",
    "low_y, high_y = ax.get_ylim() # get the y-axis limits\n",
    "low = min(low_x, low_y) # get the lowest of the two\n",
    "high = max(high_x, high_y) # get the highest of the two\n",
    "ax.plot([low, high], [low, high], ls='--', c=\"0.3\", alpha=0.5) # plot a diagonal line\n",
    "ax.set_xlabel(\"OLS regression Coefficients\") # \n",
    "ax.set_ylabel(\"NNLS regression Coefficients\") #"
   ]
  }
 ],
 "metadata": {
  "kernelspec": {
   "display_name": "Python 3",
   "language": "python",
   "name": "python3"
  },
  "language_info": {
   "codemirror_mode": {
    "name": "ipython",
    "version": 3
   },
   "file_extension": ".py",
   "mimetype": "text/x-python",
   "name": "python",
   "nbconvert_exporter": "python",
   "pygments_lexer": "ipython3",
   "version": "3.11.8"
  }
 },
 "nbformat": 4,
 "nbformat_minor": 5
}
